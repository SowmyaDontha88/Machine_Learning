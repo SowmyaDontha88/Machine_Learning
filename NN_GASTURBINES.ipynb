{
  "nbformat": 4,
  "nbformat_minor": 0,
  "metadata": {
    "colab": {
      "provenance": [],
      "authorship_tag": "ABX9TyPSdkui79aeCB+IGXLv0mcd",
      "include_colab_link": true
    },
    "kernelspec": {
      "name": "python3",
      "display_name": "Python 3"
    },
    "language_info": {
      "name": "python"
    }
  },
  "cells": [
    {
      "cell_type": "markdown",
      "metadata": {
        "id": "view-in-github",
        "colab_type": "text"
      },
      "source": [
        "<a href=\"https://colab.research.google.com/github/SowmyaDontha88/Machine_Learning/blob/main/NN_GASTURBINES.ipynb\" target=\"_parent\"><img src=\"https://colab.research.google.com/assets/colab-badge.svg\" alt=\"Open In Colab\"/></a>"
      ]
    },
    {
      "cell_type": "code",
      "execution_count": null,
      "metadata": {
        "id": "fC0_GLfJ8Sc4"
      },
      "outputs": [],
      "source": [
        "import pandas as pd\n",
        "import numpy as np\n",
        "import matplotlib.pyplot as plt\n",
        "import seaborn as sns\n",
        "from sklearn.model_selection import train_test_split\n",
        "from keras.models import Sequential\n",
        "from keras.layers import Dense\n",
        "from keras.optimizers import Adam\n",
        "from sklearn.metrics import confusion_matrix\n",
        "from keras.models import Sequential\n",
        "from keras.layers import BatchNormalization\n",
        "from sklearn.preprocessing import StandardScaler\n",
        "from keras import backend"
      ]
    },
    {
      "cell_type": "markdown",
      "source": [
        "# **Problem Statement -> To build a model that accuretly predicts for TEY(Turbine Engine Yeild)**"
      ],
      "metadata": {
        "id": "xvekYw3kDSDP"
      }
    },
    {
      "cell_type": "code",
      "source": [
        "data = pd.read_csv('/content/gas_turbines.csv')"
      ],
      "metadata": {
        "id": "BahhUjVa-MwT"
      },
      "execution_count": null,
      "outputs": []
    },
    {
      "cell_type": "code",
      "source": [
        "data.head(3)"
      ],
      "metadata": {
        "colab": {
          "base_uri": "https://localhost:8080/",
          "height": 143
        },
        "id": "OL8f8-A0-rLF",
        "outputId": "16d4f49b-885d-496e-c04b-e11115b4327f"
      },
      "execution_count": null,
      "outputs": [
        {
          "output_type": "execute_result",
          "data": {
            "text/plain": [
              "       AT      AP      AH    AFDP    GTEP     TIT     TAT     TEY     CDP  \\\n",
              "0  6.8594  1007.9  96.799  3.5000  19.663  1059.2  550.00  114.70  10.605   \n",
              "1  6.7850  1008.4  97.118  3.4998  19.728  1059.3  550.00  114.72  10.598   \n",
              "2  6.8977  1008.8  95.939  3.4824  19.779  1059.4  549.87  114.71  10.601   \n",
              "\n",
              "       CO     NOX  \n",
              "0  3.1547  82.722  \n",
              "1  3.2363  82.776  \n",
              "2  3.2012  82.468  "
            ],
            "text/html": [
              "\n",
              "  <div id=\"df-8257b3c7-776e-47fa-b7ed-daf4db54f548\">\n",
              "    <div class=\"colab-df-container\">\n",
              "      <div>\n",
              "<style scoped>\n",
              "    .dataframe tbody tr th:only-of-type {\n",
              "        vertical-align: middle;\n",
              "    }\n",
              "\n",
              "    .dataframe tbody tr th {\n",
              "        vertical-align: top;\n",
              "    }\n",
              "\n",
              "    .dataframe thead th {\n",
              "        text-align: right;\n",
              "    }\n",
              "</style>\n",
              "<table border=\"1\" class=\"dataframe\">\n",
              "  <thead>\n",
              "    <tr style=\"text-align: right;\">\n",
              "      <th></th>\n",
              "      <th>AT</th>\n",
              "      <th>AP</th>\n",
              "      <th>AH</th>\n",
              "      <th>AFDP</th>\n",
              "      <th>GTEP</th>\n",
              "      <th>TIT</th>\n",
              "      <th>TAT</th>\n",
              "      <th>TEY</th>\n",
              "      <th>CDP</th>\n",
              "      <th>CO</th>\n",
              "      <th>NOX</th>\n",
              "    </tr>\n",
              "  </thead>\n",
              "  <tbody>\n",
              "    <tr>\n",
              "      <th>0</th>\n",
              "      <td>6.8594</td>\n",
              "      <td>1007.9</td>\n",
              "      <td>96.799</td>\n",
              "      <td>3.5000</td>\n",
              "      <td>19.663</td>\n",
              "      <td>1059.2</td>\n",
              "      <td>550.00</td>\n",
              "      <td>114.70</td>\n",
              "      <td>10.605</td>\n",
              "      <td>3.1547</td>\n",
              "      <td>82.722</td>\n",
              "    </tr>\n",
              "    <tr>\n",
              "      <th>1</th>\n",
              "      <td>6.7850</td>\n",
              "      <td>1008.4</td>\n",
              "      <td>97.118</td>\n",
              "      <td>3.4998</td>\n",
              "      <td>19.728</td>\n",
              "      <td>1059.3</td>\n",
              "      <td>550.00</td>\n",
              "      <td>114.72</td>\n",
              "      <td>10.598</td>\n",
              "      <td>3.2363</td>\n",
              "      <td>82.776</td>\n",
              "    </tr>\n",
              "    <tr>\n",
              "      <th>2</th>\n",
              "      <td>6.8977</td>\n",
              "      <td>1008.8</td>\n",
              "      <td>95.939</td>\n",
              "      <td>3.4824</td>\n",
              "      <td>19.779</td>\n",
              "      <td>1059.4</td>\n",
              "      <td>549.87</td>\n",
              "      <td>114.71</td>\n",
              "      <td>10.601</td>\n",
              "      <td>3.2012</td>\n",
              "      <td>82.468</td>\n",
              "    </tr>\n",
              "  </tbody>\n",
              "</table>\n",
              "</div>\n",
              "      <button class=\"colab-df-convert\" onclick=\"convertToInteractive('df-8257b3c7-776e-47fa-b7ed-daf4db54f548')\"\n",
              "              title=\"Convert this dataframe to an interactive table.\"\n",
              "              style=\"display:none;\">\n",
              "        \n",
              "  <svg xmlns=\"http://www.w3.org/2000/svg\" height=\"24px\"viewBox=\"0 0 24 24\"\n",
              "       width=\"24px\">\n",
              "    <path d=\"M0 0h24v24H0V0z\" fill=\"none\"/>\n",
              "    <path d=\"M18.56 5.44l.94 2.06.94-2.06 2.06-.94-2.06-.94-.94-2.06-.94 2.06-2.06.94zm-11 1L8.5 8.5l.94-2.06 2.06-.94-2.06-.94L8.5 2.5l-.94 2.06-2.06.94zm10 10l.94 2.06.94-2.06 2.06-.94-2.06-.94-.94-2.06-.94 2.06-2.06.94z\"/><path d=\"M17.41 7.96l-1.37-1.37c-.4-.4-.92-.59-1.43-.59-.52 0-1.04.2-1.43.59L10.3 9.45l-7.72 7.72c-.78.78-.78 2.05 0 2.83L4 21.41c.39.39.9.59 1.41.59.51 0 1.02-.2 1.41-.59l7.78-7.78 2.81-2.81c.8-.78.8-2.07 0-2.86zM5.41 20L4 18.59l7.72-7.72 1.47 1.35L5.41 20z\"/>\n",
              "  </svg>\n",
              "      </button>\n",
              "      \n",
              "  <style>\n",
              "    .colab-df-container {\n",
              "      display:flex;\n",
              "      flex-wrap:wrap;\n",
              "      gap: 12px;\n",
              "    }\n",
              "\n",
              "    .colab-df-convert {\n",
              "      background-color: #E8F0FE;\n",
              "      border: none;\n",
              "      border-radius: 50%;\n",
              "      cursor: pointer;\n",
              "      display: none;\n",
              "      fill: #1967D2;\n",
              "      height: 32px;\n",
              "      padding: 0 0 0 0;\n",
              "      width: 32px;\n",
              "    }\n",
              "\n",
              "    .colab-df-convert:hover {\n",
              "      background-color: #E2EBFA;\n",
              "      box-shadow: 0px 1px 2px rgba(60, 64, 67, 0.3), 0px 1px 3px 1px rgba(60, 64, 67, 0.15);\n",
              "      fill: #174EA6;\n",
              "    }\n",
              "\n",
              "    [theme=dark] .colab-df-convert {\n",
              "      background-color: #3B4455;\n",
              "      fill: #D2E3FC;\n",
              "    }\n",
              "\n",
              "    [theme=dark] .colab-df-convert:hover {\n",
              "      background-color: #434B5C;\n",
              "      box-shadow: 0px 1px 3px 1px rgba(0, 0, 0, 0.15);\n",
              "      filter: drop-shadow(0px 1px 2px rgba(0, 0, 0, 0.3));\n",
              "      fill: #FFFFFF;\n",
              "    }\n",
              "  </style>\n",
              "\n",
              "      <script>\n",
              "        const buttonEl =\n",
              "          document.querySelector('#df-8257b3c7-776e-47fa-b7ed-daf4db54f548 button.colab-df-convert');\n",
              "        buttonEl.style.display =\n",
              "          google.colab.kernel.accessAllowed ? 'block' : 'none';\n",
              "\n",
              "        async function convertToInteractive(key) {\n",
              "          const element = document.querySelector('#df-8257b3c7-776e-47fa-b7ed-daf4db54f548');\n",
              "          const dataTable =\n",
              "            await google.colab.kernel.invokeFunction('convertToInteractive',\n",
              "                                                     [key], {});\n",
              "          if (!dataTable) return;\n",
              "\n",
              "          const docLinkHtml = 'Like what you see? Visit the ' +\n",
              "            '<a target=\"_blank\" href=https://colab.research.google.com/notebooks/data_table.ipynb>data table notebook</a>'\n",
              "            + ' to learn more about interactive tables.';\n",
              "          element.innerHTML = '';\n",
              "          dataTable['output_type'] = 'display_data';\n",
              "          await google.colab.output.renderOutput(dataTable, element);\n",
              "          const docLink = document.createElement('div');\n",
              "          docLink.innerHTML = docLinkHtml;\n",
              "          element.appendChild(docLink);\n",
              "        }\n",
              "      </script>\n",
              "    </div>\n",
              "  </div>\n",
              "  "
            ]
          },
          "metadata": {},
          "execution_count": 178
        }
      ]
    },
    {
      "cell_type": "code",
      "source": [
        "data.describe()"
      ],
      "metadata": {
        "colab": {
          "base_uri": "https://localhost:8080/",
          "height": 344
        },
        "id": "r5P8v37f-srl",
        "outputId": "f0aba235-da79-4627-df5c-9aee34ad53db"
      },
      "execution_count": null,
      "outputs": [
        {
          "output_type": "execute_result",
          "data": {
            "text/plain": [
              "                 AT           AP            AH          AFDP          GTEP  \\\n",
              "count  15039.000000  15039.00000  15039.000000  15039.000000  15039.000000   \n",
              "mean      17.764381   1013.19924     79.124174      4.200294     25.419061   \n",
              "std        7.574323      6.41076     13.793439      0.760197      4.173916   \n",
              "min        0.522300    985.85000     30.344000      2.087400     17.878000   \n",
              "25%       11.408000   1008.90000     69.750000      3.723900     23.294000   \n",
              "50%       18.186000   1012.80000     82.266000      4.186200     25.082000   \n",
              "75%       23.862500   1016.90000     90.043500      4.550900     27.184000   \n",
              "max       34.929000   1034.20000    100.200000      7.610600     37.402000   \n",
              "\n",
              "                TIT           TAT           TEY           CDP            CO  \\\n",
              "count  15039.000000  15039.000000  15039.000000  15039.000000  15039.000000   \n",
              "mean    1083.798770    545.396183    134.188464     12.102353      1.972499   \n",
              "std       16.527806      7.866803     15.829717      1.103196      2.222206   \n",
              "min     1000.800000    512.450000    100.170000      9.904400      0.000388   \n",
              "25%     1079.600000    542.170000    127.985000     11.622000      0.858055   \n",
              "50%     1088.700000    549.890000    133.780000     12.025000      1.390200   \n",
              "75%     1096.000000    550.060000    140.895000     12.578000      2.160400   \n",
              "max     1100.800000    550.610000    174.610000     15.081000     44.103000   \n",
              "\n",
              "                NOX  \n",
              "count  15039.000000  \n",
              "mean      68.190934  \n",
              "std       10.470586  \n",
              "min       27.765000  \n",
              "25%       61.303500  \n",
              "50%       66.601000  \n",
              "75%       73.935500  \n",
              "max      119.890000  "
            ],
            "text/html": [
              "\n",
              "  <div id=\"df-00788feb-6571-45f3-8422-69cd4d496a59\">\n",
              "    <div class=\"colab-df-container\">\n",
              "      <div>\n",
              "<style scoped>\n",
              "    .dataframe tbody tr th:only-of-type {\n",
              "        vertical-align: middle;\n",
              "    }\n",
              "\n",
              "    .dataframe tbody tr th {\n",
              "        vertical-align: top;\n",
              "    }\n",
              "\n",
              "    .dataframe thead th {\n",
              "        text-align: right;\n",
              "    }\n",
              "</style>\n",
              "<table border=\"1\" class=\"dataframe\">\n",
              "  <thead>\n",
              "    <tr style=\"text-align: right;\">\n",
              "      <th></th>\n",
              "      <th>AT</th>\n",
              "      <th>AP</th>\n",
              "      <th>AH</th>\n",
              "      <th>AFDP</th>\n",
              "      <th>GTEP</th>\n",
              "      <th>TIT</th>\n",
              "      <th>TAT</th>\n",
              "      <th>TEY</th>\n",
              "      <th>CDP</th>\n",
              "      <th>CO</th>\n",
              "      <th>NOX</th>\n",
              "    </tr>\n",
              "  </thead>\n",
              "  <tbody>\n",
              "    <tr>\n",
              "      <th>count</th>\n",
              "      <td>15039.000000</td>\n",
              "      <td>15039.00000</td>\n",
              "      <td>15039.000000</td>\n",
              "      <td>15039.000000</td>\n",
              "      <td>15039.000000</td>\n",
              "      <td>15039.000000</td>\n",
              "      <td>15039.000000</td>\n",
              "      <td>15039.000000</td>\n",
              "      <td>15039.000000</td>\n",
              "      <td>15039.000000</td>\n",
              "      <td>15039.000000</td>\n",
              "    </tr>\n",
              "    <tr>\n",
              "      <th>mean</th>\n",
              "      <td>17.764381</td>\n",
              "      <td>1013.19924</td>\n",
              "      <td>79.124174</td>\n",
              "      <td>4.200294</td>\n",
              "      <td>25.419061</td>\n",
              "      <td>1083.798770</td>\n",
              "      <td>545.396183</td>\n",
              "      <td>134.188464</td>\n",
              "      <td>12.102353</td>\n",
              "      <td>1.972499</td>\n",
              "      <td>68.190934</td>\n",
              "    </tr>\n",
              "    <tr>\n",
              "      <th>std</th>\n",
              "      <td>7.574323</td>\n",
              "      <td>6.41076</td>\n",
              "      <td>13.793439</td>\n",
              "      <td>0.760197</td>\n",
              "      <td>4.173916</td>\n",
              "      <td>16.527806</td>\n",
              "      <td>7.866803</td>\n",
              "      <td>15.829717</td>\n",
              "      <td>1.103196</td>\n",
              "      <td>2.222206</td>\n",
              "      <td>10.470586</td>\n",
              "    </tr>\n",
              "    <tr>\n",
              "      <th>min</th>\n",
              "      <td>0.522300</td>\n",
              "      <td>985.85000</td>\n",
              "      <td>30.344000</td>\n",
              "      <td>2.087400</td>\n",
              "      <td>17.878000</td>\n",
              "      <td>1000.800000</td>\n",
              "      <td>512.450000</td>\n",
              "      <td>100.170000</td>\n",
              "      <td>9.904400</td>\n",
              "      <td>0.000388</td>\n",
              "      <td>27.765000</td>\n",
              "    </tr>\n",
              "    <tr>\n",
              "      <th>25%</th>\n",
              "      <td>11.408000</td>\n",
              "      <td>1008.90000</td>\n",
              "      <td>69.750000</td>\n",
              "      <td>3.723900</td>\n",
              "      <td>23.294000</td>\n",
              "      <td>1079.600000</td>\n",
              "      <td>542.170000</td>\n",
              "      <td>127.985000</td>\n",
              "      <td>11.622000</td>\n",
              "      <td>0.858055</td>\n",
              "      <td>61.303500</td>\n",
              "    </tr>\n",
              "    <tr>\n",
              "      <th>50%</th>\n",
              "      <td>18.186000</td>\n",
              "      <td>1012.80000</td>\n",
              "      <td>82.266000</td>\n",
              "      <td>4.186200</td>\n",
              "      <td>25.082000</td>\n",
              "      <td>1088.700000</td>\n",
              "      <td>549.890000</td>\n",
              "      <td>133.780000</td>\n",
              "      <td>12.025000</td>\n",
              "      <td>1.390200</td>\n",
              "      <td>66.601000</td>\n",
              "    </tr>\n",
              "    <tr>\n",
              "      <th>75%</th>\n",
              "      <td>23.862500</td>\n",
              "      <td>1016.90000</td>\n",
              "      <td>90.043500</td>\n",
              "      <td>4.550900</td>\n",
              "      <td>27.184000</td>\n",
              "      <td>1096.000000</td>\n",
              "      <td>550.060000</td>\n",
              "      <td>140.895000</td>\n",
              "      <td>12.578000</td>\n",
              "      <td>2.160400</td>\n",
              "      <td>73.935500</td>\n",
              "    </tr>\n",
              "    <tr>\n",
              "      <th>max</th>\n",
              "      <td>34.929000</td>\n",
              "      <td>1034.20000</td>\n",
              "      <td>100.200000</td>\n",
              "      <td>7.610600</td>\n",
              "      <td>37.402000</td>\n",
              "      <td>1100.800000</td>\n",
              "      <td>550.610000</td>\n",
              "      <td>174.610000</td>\n",
              "      <td>15.081000</td>\n",
              "      <td>44.103000</td>\n",
              "      <td>119.890000</td>\n",
              "    </tr>\n",
              "  </tbody>\n",
              "</table>\n",
              "</div>\n",
              "      <button class=\"colab-df-convert\" onclick=\"convertToInteractive('df-00788feb-6571-45f3-8422-69cd4d496a59')\"\n",
              "              title=\"Convert this dataframe to an interactive table.\"\n",
              "              style=\"display:none;\">\n",
              "        \n",
              "  <svg xmlns=\"http://www.w3.org/2000/svg\" height=\"24px\"viewBox=\"0 0 24 24\"\n",
              "       width=\"24px\">\n",
              "    <path d=\"M0 0h24v24H0V0z\" fill=\"none\"/>\n",
              "    <path d=\"M18.56 5.44l.94 2.06.94-2.06 2.06-.94-2.06-.94-.94-2.06-.94 2.06-2.06.94zm-11 1L8.5 8.5l.94-2.06 2.06-.94-2.06-.94L8.5 2.5l-.94 2.06-2.06.94zm10 10l.94 2.06.94-2.06 2.06-.94-2.06-.94-.94-2.06-.94 2.06-2.06.94z\"/><path d=\"M17.41 7.96l-1.37-1.37c-.4-.4-.92-.59-1.43-.59-.52 0-1.04.2-1.43.59L10.3 9.45l-7.72 7.72c-.78.78-.78 2.05 0 2.83L4 21.41c.39.39.9.59 1.41.59.51 0 1.02-.2 1.41-.59l7.78-7.78 2.81-2.81c.8-.78.8-2.07 0-2.86zM5.41 20L4 18.59l7.72-7.72 1.47 1.35L5.41 20z\"/>\n",
              "  </svg>\n",
              "      </button>\n",
              "      \n",
              "  <style>\n",
              "    .colab-df-container {\n",
              "      display:flex;\n",
              "      flex-wrap:wrap;\n",
              "      gap: 12px;\n",
              "    }\n",
              "\n",
              "    .colab-df-convert {\n",
              "      background-color: #E8F0FE;\n",
              "      border: none;\n",
              "      border-radius: 50%;\n",
              "      cursor: pointer;\n",
              "      display: none;\n",
              "      fill: #1967D2;\n",
              "      height: 32px;\n",
              "      padding: 0 0 0 0;\n",
              "      width: 32px;\n",
              "    }\n",
              "\n",
              "    .colab-df-convert:hover {\n",
              "      background-color: #E2EBFA;\n",
              "      box-shadow: 0px 1px 2px rgba(60, 64, 67, 0.3), 0px 1px 3px 1px rgba(60, 64, 67, 0.15);\n",
              "      fill: #174EA6;\n",
              "    }\n",
              "\n",
              "    [theme=dark] .colab-df-convert {\n",
              "      background-color: #3B4455;\n",
              "      fill: #D2E3FC;\n",
              "    }\n",
              "\n",
              "    [theme=dark] .colab-df-convert:hover {\n",
              "      background-color: #434B5C;\n",
              "      box-shadow: 0px 1px 3px 1px rgba(0, 0, 0, 0.15);\n",
              "      filter: drop-shadow(0px 1px 2px rgba(0, 0, 0, 0.3));\n",
              "      fill: #FFFFFF;\n",
              "    }\n",
              "  </style>\n",
              "\n",
              "      <script>\n",
              "        const buttonEl =\n",
              "          document.querySelector('#df-00788feb-6571-45f3-8422-69cd4d496a59 button.colab-df-convert');\n",
              "        buttonEl.style.display =\n",
              "          google.colab.kernel.accessAllowed ? 'block' : 'none';\n",
              "\n",
              "        async function convertToInteractive(key) {\n",
              "          const element = document.querySelector('#df-00788feb-6571-45f3-8422-69cd4d496a59');\n",
              "          const dataTable =\n",
              "            await google.colab.kernel.invokeFunction('convertToInteractive',\n",
              "                                                     [key], {});\n",
              "          if (!dataTable) return;\n",
              "\n",
              "          const docLinkHtml = 'Like what you see? Visit the ' +\n",
              "            '<a target=\"_blank\" href=https://colab.research.google.com/notebooks/data_table.ipynb>data table notebook</a>'\n",
              "            + ' to learn more about interactive tables.';\n",
              "          element.innerHTML = '';\n",
              "          dataTable['output_type'] = 'display_data';\n",
              "          await google.colab.output.renderOutput(dataTable, element);\n",
              "          const docLink = document.createElement('div');\n",
              "          docLink.innerHTML = docLinkHtml;\n",
              "          element.appendChild(docLink);\n",
              "        }\n",
              "      </script>\n",
              "    </div>\n",
              "  </div>\n",
              "  "
            ]
          },
          "metadata": {},
          "execution_count": 179
        }
      ]
    },
    {
      "cell_type": "code",
      "source": [
        "data.info()"
      ],
      "metadata": {
        "colab": {
          "base_uri": "https://localhost:8080/"
        },
        "id": "WzFSVYyT-8NN",
        "outputId": "a2ac3612-f785-4123-92ef-3a9fa34e2137"
      },
      "execution_count": null,
      "outputs": [
        {
          "output_type": "stream",
          "name": "stdout",
          "text": [
            "<class 'pandas.core.frame.DataFrame'>\n",
            "RangeIndex: 15039 entries, 0 to 15038\n",
            "Data columns (total 11 columns):\n",
            " #   Column  Non-Null Count  Dtype  \n",
            "---  ------  --------------  -----  \n",
            " 0   AT      15039 non-null  float64\n",
            " 1   AP      15039 non-null  float64\n",
            " 2   AH      15039 non-null  float64\n",
            " 3   AFDP    15039 non-null  float64\n",
            " 4   GTEP    15039 non-null  float64\n",
            " 5   TIT     15039 non-null  float64\n",
            " 6   TAT     15039 non-null  float64\n",
            " 7   TEY     15039 non-null  float64\n",
            " 8   CDP     15039 non-null  float64\n",
            " 9   CO      15039 non-null  float64\n",
            " 10  NOX     15039 non-null  float64\n",
            "dtypes: float64(11)\n",
            "memory usage: 1.3 MB\n"
          ]
        }
      ]
    },
    {
      "cell_type": "code",
      "source": [
        "data.isnull().any()"
      ],
      "metadata": {
        "colab": {
          "base_uri": "https://localhost:8080/"
        },
        "id": "vih8dlJF-9UZ",
        "outputId": "e787ff2e-610e-4957-f4d9-0e24652c28af"
      },
      "execution_count": null,
      "outputs": [
        {
          "output_type": "execute_result",
          "data": {
            "text/plain": [
              "AT      False\n",
              "AP      False\n",
              "AH      False\n",
              "AFDP    False\n",
              "GTEP    False\n",
              "TIT     False\n",
              "TAT     False\n",
              "TEY     False\n",
              "CDP     False\n",
              "CO      False\n",
              "NOX     False\n",
              "dtype: bool"
            ]
          },
          "metadata": {},
          "execution_count": 181
        }
      ]
    },
    {
      "cell_type": "markdown",
      "source": [
        "We can proceed to the next step, as we don't have any missing values."
      ],
      "metadata": {
        "id": "DPl-Iatgg_Ap"
      }
    },
    {
      "cell_type": "code",
      "source": [
        "import warnings\n",
        "warnings.filterwarnings('ignore')"
      ],
      "metadata": {
        "id": "ZlGWA-aV_oPm"
      },
      "execution_count": null,
      "outputs": []
    },
    {
      "cell_type": "code",
      "source": [
        "sns.kdeplot(data=data,x='AT',warn_singular=True)\n",
        "plt.show()"
      ],
      "metadata": {
        "id": "M-L-7tX__kjY",
        "colab": {
          "base_uri": "https://localhost:8080/",
          "height": 279
        },
        "outputId": "82583fa0-180f-4115-b3da-15e95db3c6ed"
      },
      "execution_count": null,
      "outputs": [
        {
          "output_type": "display_data",
          "data": {
            "text/plain": [
              "<Figure size 432x288 with 1 Axes>"
            ],
            "image/png": "[encoded data removed]"
          },
          "metadata": {
            "needs_background": "light"
          }
        }
      ]
    },
    {
      "cell_type": "code",
      "source": [
        "sns.boxplot(data['TEY'], color = 'green')\n",
        "plt.show()"
      ],
      "metadata": {
        "colab": {
          "base_uri": "https://localhost:8080/",
          "height": 265
        },
        "id": "JpCHSq2yBkwS",
        "outputId": "ef9613b8-1e9f-4c81-e6fc-508824ab1635"
      },
      "execution_count": null,
      "outputs": [
        {
          "output_type": "display_data",
          "data": {
            "text/plain": [
              "<Figure size 432x288 with 1 Axes>"
            ],
            "image/png": "[encoded data removed]"
          },
          "metadata": {
            "needs_background": "light"
          }
        }
      ]
    },
    {
      "cell_type": "markdown",
      "source": [
        "We can observe that the target variable contains outliners."
      ],
      "metadata": {
        "id": "tFp2Rp-qddUe"
      }
    },
    {
      "cell_type": "code",
      "source": [
        "sns.lineplot(data=data,x='AH',y='AP')\n",
        "plt.show()"
      ],
      "metadata": {
        "colab": {
          "base_uri": "https://localhost:8080/",
          "height": 279
        },
        "id": "uNXAA0s-CJqn",
        "outputId": "8e95727f-eb5b-4b43-acac-55d85ecd49a6"
      },
      "execution_count": null,
      "outputs": [
        {
          "output_type": "display_data",
          "data": {
            "text/plain": [
              "<Figure size 432x288 with 1 Axes>"
            ],
            "image/png": "[encoded data removed]"
          },
          "metadata": {
            "needs_background": "light"
          }
        }
      ]
    },
    {
      "cell_type": "markdown",
      "source": [
        "# **Finding Correlation**"
      ],
      "metadata": {
        "id": "r0JxDTDUdqLK"
      }
    },
    {
      "cell_type": "code",
      "source": [
        "corr = data.corr()"
      ],
      "metadata": {
        "id": "_yqyQvrsD4Og"
      },
      "execution_count": null,
      "outputs": []
    },
    {
      "cell_type": "code",
      "source": [
        "plt.figure(figsize=(10,10))\n",
        "sns.heatmap(corr,square=True,annot=True)\n",
        "plt.show()"
      ],
      "metadata": {
        "colab": {
          "base_uri": "https://localhost:8080/",
          "height": 578
        },
        "id": "PNUmw6QvD7CG",
        "outputId": "15e4eb38-a965-49a1-fba3-f62a4020a639"
      },
      "execution_count": null,
      "outputs": [
        {
          "output_type": "display_data",
          "data": {
            "text/plain": [
              "<Figure size 720x720 with 2 Axes>"
            ],
            "image/png": "[encoded data removed]"
          },
          "metadata": {
            "needs_background": "light"
          }
        }
      ]
    },
    {
      "cell_type": "markdown",
      "source": [
        "The heat map indicates the correlation between the variable and the target variable is perfectly correlated with GTEP,TIT and CDP attributes."
      ],
      "metadata": {
        "id": "6J3DVmpBd5PL"
      }
    },
    {
      "cell_type": "code",
      "source": [
        "plt.plot(data['TEY'],color='y')"
      ],
      "metadata": {
        "colab": {
          "base_uri": "https://localhost:8080/",
          "height": 282
        },
        "id": "YS6d65ijENGZ",
        "outputId": "91c7200b-a731-47a9-8684-339a98c2efcd"
      },
      "execution_count": null,
      "outputs": [
        {
          "output_type": "execute_result",
          "data": {
            "text/plain": [
              "[<matplotlib.lines.Line2D at 0x7f0472e1d130>]"
            ]
          },
          "metadata": {},
          "execution_count": 188
        },
        {
          "output_type": "display_data",
          "data": {
            "text/plain": [
              "<Figure size 432x288 with 1 Axes>"
            ],
            "image/png": "[encoded data removed]"
          },
          "metadata": {
            "needs_background": "light"
          }
        }
      ]
    },
    {
      "cell_type": "markdown",
      "source": [
        "# **Modelling**"
      ],
      "metadata": {
        "id": "_Ovz0JpneJSu"
      }
    },
    {
      "cell_type": "code",
      "source": [
        "X = data.loc[:,['AT', 'AP', 'AH', 'AFDP', 'GTEP', 'TIT', 'TAT', 'CDP', 'CO','NOX']]\n",
        "y= data.loc[:,['TEY']]"
      ],
      "metadata": {
        "id": "JhD9-7viDH1y"
      },
      "execution_count": null,
      "outputs": []
    },
    {
      "cell_type": "code",
      "source": [
        "scaled = StandardScaler()\n",
        "X = scaled.fit_transform(X)\n",
        "y = scaled.fit_transform(y)"
      ],
      "metadata": {
        "id": "2rJ-r4HxE9Fl"
      },
      "execution_count": null,
      "outputs": []
    },
    {
      "cell_type": "markdown",
      "source": [
        "Using StandardScaler function, the large values range scaled variables are scaled to values in between 0 to 1 inorder to increase the acceptance of small scaled values."
      ],
      "metadata": {
        "id": "k-lmQpbyeQ3u"
      }
    },
    {
      "cell_type": "code",
      "source": [
        "x_train,x_test,y_train,y_test = train_test_split(X,y,test_size=0.3)"
      ],
      "metadata": {
        "id": "79itAFZRDPiy"
      },
      "execution_count": null,
      "outputs": []
    },
    {
      "cell_type": "markdown",
      "source": [
        "# **Building Neural Network**"
      ],
      "metadata": {
        "id": "JXOjVM2aelEE"
      }
    },
    {
      "cell_type": "code",
      "source": [
        "model = Sequential()\n",
        "model.add(Dense(10,input_dim =10,kernel_initializer='random_uniform',activation='tanh'))\n",
        "model.add(Dense(2,kernel_initializer='random_uniform',activation='relu'))\n",
        "model.add(BatchNormalization())\n",
        "model.add(Dense(1,kernel_initializer='random_uniform',activation='tanh'))\n",
        "model.compile(optimizer='Adam',loss='mean_squared_error',metrics=[rmse])"
      ],
      "metadata": {
        "id": "3p33Ub7RE1wj"
      },
      "execution_count": null,
      "outputs": []
    },
    {
      "cell_type": "code",
      "source": [
        "history = model.fit(x_train,y_train,epochs = 35 ,batch_size=32,validation_split=0.1)"
      ],
      "metadata": {
        "colab": {
          "base_uri": "https://localhost:8080/"
        },
        "id": "_HI0st-OHiOQ",
        "outputId": "be9423d0-49b4-44d3-a75b-052519995ef6"
      },
      "execution_count": null,
      "outputs": [
        {
          "output_type": "stream",
          "name": "stdout",
          "text": [
            "Epoch 1/35\n",
            "297/297 [==============================] - 2s 4ms/step - loss: 0.5747 - rmse: 0.5309 - val_loss: 0.3370 - val_rmse: 0.4088\n",
            "Epoch 2/35\n",
            "297/297 [==============================] - 1s 3ms/step - loss: 0.2166 - rmse: 0.3518 - val_loss: 0.1466 - val_rmse: 0.2534\n",
            "Epoch 3/35\n",
            "297/297 [==============================] - 1s 3ms/step - loss: 0.1870 - rmse: 0.3351 - val_loss: 0.1394 - val_rmse: 0.2647\n",
            "Epoch 4/35\n",
            "297/297 [==============================] - 1s 3ms/step - loss: 0.1850 - rmse: 0.3400 - val_loss: 0.1415 - val_rmse: 0.2598\n",
            "Epoch 5/35\n",
            "297/297 [==============================] - 1s 3ms/step - loss: 0.1826 - rmse: 0.3380 - val_loss: 0.1369 - val_rmse: 0.2505\n",
            "Epoch 6/35\n",
            "297/297 [==============================] - 1s 3ms/step - loss: 0.1761 - rmse: 0.3250 - val_loss: 0.1389 - val_rmse: 0.2509\n",
            "Epoch 7/35\n",
            "297/297 [==============================] - 2s 5ms/step - loss: 0.1743 - rmse: 0.3249 - val_loss: 0.1350 - val_rmse: 0.2474\n",
            "Epoch 8/35\n",
            "297/297 [==============================] - 3s 11ms/step - loss: 0.1742 - rmse: 0.3214 - val_loss: 0.1351 - val_rmse: 0.2439\n",
            "Epoch 9/35\n",
            "297/297 [==============================] - 1s 4ms/step - loss: 0.1688 - rmse: 0.3130 - val_loss: 0.1332 - val_rmse: 0.2438\n",
            "Epoch 10/35\n",
            "297/297 [==============================] - 1s 3ms/step - loss: 0.1676 - rmse: 0.3113 - val_loss: 0.1329 - val_rmse: 0.2485\n",
            "Epoch 11/35\n",
            "297/297 [==============================] - 1s 3ms/step - loss: 0.1633 - rmse: 0.3040 - val_loss: 0.1314 - val_rmse: 0.2460\n",
            "Epoch 12/35\n",
            "297/297 [==============================] - 1s 3ms/step - loss: 0.1611 - rmse: 0.3004 - val_loss: 0.1342 - val_rmse: 0.2579\n",
            "Epoch 13/35\n",
            "297/297 [==============================] - 1s 3ms/step - loss: 0.1620 - rmse: 0.3021 - val_loss: 0.1348 - val_rmse: 0.2644\n",
            "Epoch 14/35\n",
            "297/297 [==============================] - 1s 3ms/step - loss: 0.1644 - rmse: 0.3063 - val_loss: 0.1324 - val_rmse: 0.2549\n",
            "Epoch 15/35\n",
            "297/297 [==============================] - 1s 3ms/step - loss: 0.1626 - rmse: 0.3038 - val_loss: 0.1304 - val_rmse: 0.2501\n",
            "Epoch 16/35\n",
            "297/297 [==============================] - 1s 3ms/step - loss: 0.1602 - rmse: 0.2986 - val_loss: 0.1317 - val_rmse: 0.2546\n",
            "Epoch 17/35\n",
            "297/297 [==============================] - 1s 3ms/step - loss: 0.1607 - rmse: 0.2971 - val_loss: 0.1307 - val_rmse: 0.2522\n",
            "Epoch 18/35\n",
            "297/297 [==============================] - 1s 5ms/step - loss: 0.1603 - rmse: 0.2989 - val_loss: 0.1329 - val_rmse: 0.2582\n",
            "Epoch 19/35\n",
            "297/297 [==============================] - 1s 5ms/step - loss: 0.1578 - rmse: 0.2946 - val_loss: 0.1293 - val_rmse: 0.2425\n",
            "Epoch 20/35\n",
            "297/297 [==============================] - 1s 3ms/step - loss: 0.1570 - rmse: 0.2939 - val_loss: 0.1342 - val_rmse: 0.2646\n",
            "Epoch 21/35\n",
            "297/297 [==============================] - 1s 3ms/step - loss: 0.1573 - rmse: 0.2927 - val_loss: 0.1294 - val_rmse: 0.2474\n",
            "Epoch 22/35\n",
            "297/297 [==============================] - 1s 3ms/step - loss: 0.1593 - rmse: 0.2983 - val_loss: 0.1296 - val_rmse: 0.2471\n",
            "Epoch 23/35\n",
            "297/297 [==============================] - 1s 3ms/step - loss: 0.1600 - rmse: 0.2963 - val_loss: 0.1328 - val_rmse: 0.2623\n",
            "Epoch 24/35\n",
            "297/297 [==============================] - 1s 3ms/step - loss: 0.1600 - rmse: 0.2965 - val_loss: 0.1285 - val_rmse: 0.2402\n",
            "Epoch 25/35\n",
            "297/297 [==============================] - 1s 3ms/step - loss: 0.1547 - rmse: 0.2896 - val_loss: 0.1284 - val_rmse: 0.2412\n",
            "Epoch 26/35\n",
            "297/297 [==============================] - 1s 3ms/step - loss: 0.1555 - rmse: 0.2890 - val_loss: 0.1281 - val_rmse: 0.2409\n",
            "Epoch 27/35\n",
            "297/297 [==============================] - 1s 3ms/step - loss: 0.1541 - rmse: 0.2870 - val_loss: 0.1276 - val_rmse: 0.2365\n",
            "Epoch 28/35\n",
            "297/297 [==============================] - 1s 3ms/step - loss: 0.1532 - rmse: 0.2842 - val_loss: 0.1315 - val_rmse: 0.2584\n",
            "Epoch 29/35\n",
            "297/297 [==============================] - 1s 3ms/step - loss: 0.1566 - rmse: 0.2906 - val_loss: 0.1274 - val_rmse: 0.2360\n",
            "Epoch 30/35\n",
            "297/297 [==============================] - 1s 3ms/step - loss: 0.1528 - rmse: 0.2842 - val_loss: 0.1285 - val_rmse: 0.2429\n",
            "Epoch 31/35\n",
            "297/297 [==============================] - 2s 5ms/step - loss: 0.1547 - rmse: 0.2884 - val_loss: 0.1294 - val_rmse: 0.2513\n",
            "Epoch 32/35\n",
            "297/297 [==============================] - 2s 5ms/step - loss: 0.1545 - rmse: 0.2864 - val_loss: 0.1283 - val_rmse: 0.2429\n",
            "Epoch 33/35\n",
            "297/297 [==============================] - 1s 3ms/step - loss: 0.1530 - rmse: 0.2848 - val_loss: 0.1276 - val_rmse: 0.2376\n",
            "Epoch 34/35\n",
            "297/297 [==============================] - 1s 4ms/step - loss: 0.1538 - rmse: 0.2858 - val_loss: 0.1266 - val_rmse: 0.2332\n",
            "Epoch 35/35\n",
            "297/297 [==============================] - 1s 4ms/step - loss: 0.1524 - rmse: 0.2841 - val_loss: 0.1275 - val_rmse: 0.2388\n"
          ]
        }
      ]
    },
    {
      "cell_type": "markdown",
      "source": [
        "The model built has a root mean square error of 0.2388"
      ],
      "metadata": {
        "id": "G6BsJJZbe14w"
      }
    },
    {
      "cell_type": "code",
      "source": [
        "model.summary()"
      ],
      "metadata": {
        "colab": {
          "base_uri": "https://localhost:8080/"
        },
        "id": "NLanxY4lIOH1",
        "outputId": "cf4d1793-b52c-4664-fcff-2c801006c865"
      },
      "execution_count": null,
      "outputs": [
        {
          "output_type": "stream",
          "name": "stdout",
          "text": [
            "Model: \"sequential_47\"\n",
            "_________________________________________________________________\n",
            " Layer (type)                Output Shape              Param #   \n",
            "=================================================================\n",
            " dense_108 (Dense)           (None, 10)                110       \n",
            "                                                                 \n",
            " dense_109 (Dense)           (None, 2)                 22        \n",
            "                                                                 \n",
            " batch_normalization_5 (Batc  (None, 2)                8         \n",
            " hNormalization)                                                 \n",
            "                                                                 \n",
            " dense_110 (Dense)           (None, 1)                 3         \n",
            "                                                                 \n",
            "=================================================================\n",
            "Total params: 143\n",
            "Trainable params: 139\n",
            "Non-trainable params: 4\n",
            "_________________________________________________________________\n"
          ]
        }
      ]
    },
    {
      "cell_type": "code",
      "source": [
        "y_predict = model.predict(x_test)"
      ],
      "metadata": {
        "colab": {
          "base_uri": "https://localhost:8080/"
        },
        "id": "xQ_SlQz1I0zO",
        "outputId": "d6b2f38e-4a77-4c81-f5d7-8eae87f6c738"
      },
      "execution_count": null,
      "outputs": [
        {
          "output_type": "stream",
          "name": "stdout",
          "text": [
            "141/141 [==============================] - 1s 4ms/step\n"
          ]
        }
      ]
    },
    {
      "cell_type": "code",
      "source": [
        "from sklearn.metrics import r2_score"
      ],
      "metadata": {
        "id": "AxCwd1m5I4KH"
      },
      "execution_count": null,
      "outputs": []
    },
    {
      "cell_type": "code",
      "source": [
        "r2_score(y_test,y_predict)"
      ],
      "metadata": {
        "colab": {
          "base_uri": "https://localhost:8080/"
        },
        "id": "lnyiR55CI-2R",
        "outputId": "1ab13545-9d30-4a70-8c8a-e55c93ef7a21"
      },
      "execution_count": null,
      "outputs": [
        {
          "output_type": "execute_result",
          "data": {
            "text/plain": [
              "0.8595009026226477"
            ]
          },
          "metadata": {},
          "execution_count": 197
        }
      ]
    },
    {
      "cell_type": "code",
      "source": [
        "def rmse(y_true, y_pred):\n",
        "\treturn backend.sqrt(backend.mean(backend.square(y_pred - y_true), axis=-1))"
      ],
      "metadata": {
        "id": "SFiFJE1lJCA7"
      },
      "execution_count": null,
      "outputs": []
    },
    {
      "cell_type": "markdown",
      "source": [
        "# **Plotting the actual and predicted values**"
      ],
      "metadata": {
        "id": "vmO80AIIhMF7"
      }
    },
    {
      "cell_type": "code",
      "source": [
        "plt.plot(history.history['rmse'])\n",
        "plt.plot(history.history['val_rmse'])\n",
        "plt.title('Root Mean Squared Error')\n",
        "plt.ylabel('rmse')\n",
        "plt.xlabel('epoch')\n",
        "plt.legend(['train', 'test'], loc='upper left')\n",
        "plt.show()\n",
        "\n",
        "plt.plot(history.history['loss'])\n",
        "plt.plot(history.history['val_loss'])\n",
        "plt.title('model loss')\n",
        "plt.ylabel('loss')\n",
        "plt.xlabel('epoch')\n",
        "plt.legend(['train', 'test'], loc='upper left')\n",
        "plt.show()"
      ],
      "metadata": {
        "colab": {
          "base_uri": "https://localhost:8080/",
          "height": 573
        },
        "id": "C84JIJELJUx5",
        "outputId": "293f4e5f-6839-4a97-a66d-65051a46a5d1"
      },
      "execution_count": null,
      "outputs": [
        {
          "output_type": "display_data",
          "data": {
            "text/plain": [
              "<Figure size 432x288 with 1 Axes>"
            ],
            "image/png": "[encoded data removed]"
          },
          "metadata": {
            "needs_background": "light"
          }
        },
        {
          "output_type": "display_data",
          "data": {
            "text/plain": [
              "<Figure size 432x288 with 1 Axes>"
            ],
            "image/png": "[encoded data removed]"
          },
          "metadata": {
            "needs_background": "light"
          }
        }
      ]
    },
    {
      "cell_type": "markdown",
      "source": [
        "From the above graph we can say that the model built is not accurately predicting the values."
      ],
      "metadata": {
        "id": "7irKlOr-fFp0"
      }
    },
    {
      "cell_type": "markdown",
      "source": [
        "# **Model building using Tensorflow**"
      ],
      "metadata": {
        "id": "SNdqqPZMfulu"
      }
    },
    {
      "cell_type": "code",
      "source": [
        "import tensorflow as tf\n"
      ],
      "metadata": {
        "id": "rFqHcCghNNUw"
      },
      "execution_count": null,
      "outputs": []
    },
    {
      "cell_type": "code",
      "source": [
        "X = data.drop(columns = ['TEY'], axis = 1) \n",
        "y = data.iloc[:,7]"
      ],
      "metadata": {
        "id": "30uXDZl_NdR0"
      },
      "execution_count": null,
      "outputs": []
    },
    {
      "cell_type": "code",
      "source": [
        "input_size = len(X.columns)\n",
        "output_size = 1\n",
        "hidden_layer_size = 50"
      ],
      "metadata": {
        "id": "UKV4TporNTrg"
      },
      "execution_count": null,
      "outputs": []
    },
    {
      "cell_type": "code",
      "source": [
        "model_tf = tf.keras.Sequential([\n",
        "                                \n",
        "                               tf.keras.layers.Dense(hidden_layer_size, input_dim = input_size, activation = 'relu'),\n",
        "                               tf.keras.layers.Dense(hidden_layer_size, activation = 'relu'),\n",
        "                               tf.keras.layers.Dense(hidden_layer_size, activation = 'relu'),\n",
        "                               tf.keras.layers.Dense(hidden_layer_size, activation = 'relu'),     \n",
        "                               tf.keras.layers.Dense(output_size)\n",
        "                             ])"
      ],
      "metadata": {
        "id": "bZx1UvGyNfaA"
      },
      "execution_count": null,
      "outputs": []
    },
    {
      "cell_type": "code",
      "source": [
        "optimizer = tf.keras.optimizers.SGD(learning_rate = 0.03)\n",
        "model_tf.compile(optimizer = 'adam', loss = 'mean_squared_error', metrics = ['MeanSquaredError'])\n",
        "num_epochs = 100\n",
        "early_stopping = tf.keras.callbacks.EarlyStopping(patience = 2)"
      ],
      "metadata": {
        "id": "xwfyFqgfNshe"
      },
      "execution_count": null,
      "outputs": []
    },
    {
      "cell_type": "code",
      "source": [
        "history = model.fit(x_train,y_train,epochs = 35 ,batch_size=32,validation_split=0.1)"
      ],
      "metadata": {
        "colab": {
          "base_uri": "https://localhost:8080/"
        },
        "id": "pF_e8KRCO6cO",
        "outputId": "0ce2b4ba-b15c-4464-a69b-8b9e08c89f46"
      },
      "execution_count": null,
      "outputs": [
        {
          "output_type": "stream",
          "name": "stdout",
          "text": [
            "Epoch 1/35\n",
            "297/297 [==============================] - 1s 3ms/step - loss: 0.1514 - rmse: 0.2817 - val_loss: 0.1263 - val_rmse: 0.2331\n",
            "Epoch 2/35\n",
            "297/297 [==============================] - 2s 5ms/step - loss: 0.1538 - rmse: 0.2861 - val_loss: 0.1280 - val_rmse: 0.2428\n",
            "Epoch 3/35\n",
            "297/297 [==============================] - 1s 5ms/step - loss: 0.1545 - rmse: 0.2876 - val_loss: 0.1283 - val_rmse: 0.2459\n",
            "Epoch 4/35\n",
            "297/297 [==============================] - 1s 3ms/step - loss: 0.1508 - rmse: 0.2790 - val_loss: 0.1259 - val_rmse: 0.2308\n",
            "Epoch 5/35\n",
            "297/297 [==============================] - 1s 4ms/step - loss: 0.1513 - rmse: 0.2778 - val_loss: 0.1290 - val_rmse: 0.2539\n",
            "Epoch 6/35\n",
            "297/297 [==============================] - 1s 3ms/step - loss: 0.1535 - rmse: 0.2858 - val_loss: 0.1381 - val_rmse: 0.2914\n",
            "Epoch 7/35\n",
            "297/297 [==============================] - 1s 3ms/step - loss: 0.1539 - rmse: 0.2849 - val_loss: 0.1262 - val_rmse: 0.2330\n",
            "Epoch 8/35\n",
            "297/297 [==============================] - 1s 3ms/step - loss: 0.1506 - rmse: 0.2791 - val_loss: 0.1253 - val_rmse: 0.2287\n",
            "Epoch 9/35\n",
            "297/297 [==============================] - 1s 3ms/step - loss: 0.1504 - rmse: 0.2791 - val_loss: 0.1293 - val_rmse: 0.2545\n",
            "Epoch 10/35\n",
            "297/297 [==============================] - 1s 3ms/step - loss: 0.1556 - rmse: 0.2869 - val_loss: 0.1283 - val_rmse: 0.2499\n",
            "Epoch 11/35\n",
            "297/297 [==============================] - 1s 3ms/step - loss: 0.1523 - rmse: 0.2830 - val_loss: 0.1326 - val_rmse: 0.2693\n",
            "Epoch 12/35\n",
            "297/297 [==============================] - 1s 3ms/step - loss: 0.1518 - rmse: 0.2803 - val_loss: 0.1260 - val_rmse: 0.2332\n",
            "Epoch 13/35\n",
            "297/297 [==============================] - 1s 3ms/step - loss: 0.1505 - rmse: 0.2792 - val_loss: 0.1254 - val_rmse: 0.2280\n",
            "Epoch 14/35\n",
            "297/297 [==============================] - 1s 4ms/step - loss: 0.1511 - rmse: 0.2800 - val_loss: 0.1260 - val_rmse: 0.2317\n",
            "Epoch 15/35\n",
            "297/297 [==============================] - 1s 5ms/step - loss: 0.1532 - rmse: 0.2820 - val_loss: 0.1257 - val_rmse: 0.2308\n",
            "Epoch 16/35\n",
            "297/297 [==============================] - 1s 4ms/step - loss: 0.1494 - rmse: 0.2772 - val_loss: 0.1261 - val_rmse: 0.2392\n",
            "Epoch 17/35\n",
            "297/297 [==============================] - 1s 3ms/step - loss: 0.1516 - rmse: 0.2787 - val_loss: 0.1260 - val_rmse: 0.2324\n",
            "Epoch 18/35\n",
            "297/297 [==============================] - 1s 3ms/step - loss: 0.1548 - rmse: 0.2875 - val_loss: 0.1257 - val_rmse: 0.2310\n",
            "Epoch 19/35\n",
            "297/297 [==============================] - 1s 3ms/step - loss: 0.1500 - rmse: 0.2776 - val_loss: 0.1419 - val_rmse: 0.3022\n",
            "Epoch 20/35\n",
            "297/297 [==============================] - 1s 4ms/step - loss: 0.1497 - rmse: 0.2759 - val_loss: 0.1295 - val_rmse: 0.2577\n",
            "Epoch 21/35\n",
            "297/297 [==============================] - 1s 3ms/step - loss: 0.1490 - rmse: 0.2739 - val_loss: 0.1265 - val_rmse: 0.2424\n",
            "Epoch 22/35\n",
            "297/297 [==============================] - 1s 4ms/step - loss: 0.1500 - rmse: 0.2785 - val_loss: 0.1251 - val_rmse: 0.2253\n",
            "Epoch 23/35\n",
            "297/297 [==============================] - 1s 3ms/step - loss: 0.1480 - rmse: 0.2738 - val_loss: 0.1253 - val_rmse: 0.2297\n",
            "Epoch 24/35\n",
            "297/297 [==============================] - 1s 3ms/step - loss: 0.1502 - rmse: 0.2771 - val_loss: 0.1254 - val_rmse: 0.2291\n",
            "Epoch 25/35\n",
            "297/297 [==============================] - 1s 3ms/step - loss: 0.1513 - rmse: 0.2792 - val_loss: 0.1252 - val_rmse: 0.2275\n",
            "Epoch 26/35\n",
            "297/297 [==============================] - 1s 3ms/step - loss: 0.1491 - rmse: 0.2756 - val_loss: 0.1262 - val_rmse: 0.2368\n",
            "Epoch 27/35\n",
            "297/297 [==============================] - 2s 6ms/step - loss: 0.1503 - rmse: 0.2766 - val_loss: 0.1348 - val_rmse: 0.2811\n",
            "Epoch 28/35\n",
            "297/297 [==============================] - 1s 5ms/step - loss: 0.1502 - rmse: 0.2783 - val_loss: 0.1264 - val_rmse: 0.2410\n",
            "Epoch 29/35\n",
            "297/297 [==============================] - 1s 3ms/step - loss: 0.1501 - rmse: 0.2774 - val_loss: 0.1339 - val_rmse: 0.2756\n",
            "Epoch 30/35\n",
            "297/297 [==============================] - 1s 3ms/step - loss: 0.1502 - rmse: 0.2778 - val_loss: 0.1247 - val_rmse: 0.2253\n",
            "Epoch 31/35\n",
            "297/297 [==============================] - 1s 3ms/step - loss: 0.1494 - rmse: 0.2750 - val_loss: 0.1256 - val_rmse: 0.2327\n",
            "Epoch 32/35\n",
            "297/297 [==============================] - 1s 3ms/step - loss: 0.1514 - rmse: 0.2810 - val_loss: 0.1254 - val_rmse: 0.2328\n",
            "Epoch 33/35\n",
            "297/297 [==============================] - 1s 3ms/step - loss: 0.1497 - rmse: 0.2771 - val_loss: 0.1293 - val_rmse: 0.2597\n",
            "Epoch 34/35\n",
            "297/297 [==============================] - 1s 3ms/step - loss: 0.1475 - rmse: 0.2714 - val_loss: 0.1274 - val_rmse: 0.2490\n",
            "Epoch 35/35\n",
            "297/297 [==============================] - 1s 3ms/step - loss: 0.1485 - rmse: 0.2738 - val_loss: 0.1262 - val_rmse: 0.2410\n"
          ]
        }
      ]
    },
    {
      "cell_type": "code",
      "source": [
        "history_tf = model_tf.fit(x_train, y_train, callbacks = early_stopping, validation_split = 0.1, epochs = num_epochs, verbose = 2)"
      ],
      "metadata": {
        "colab": {
          "base_uri": "https://localhost:8080/"
        },
        "id": "MORv1Rt9OFZs",
        "outputId": "9849897a-e80e-4f33-b168-535175b5c494"
      },
      "execution_count": null,
      "outputs": [
        {
          "output_type": "stream",
          "name": "stdout",
          "text": [
            "Epoch 1/100\n",
            "297/297 - 2s - loss: 0.0524 - mean_squared_error: 0.0524 - val_loss: 0.0040 - val_mean_squared_error: 0.0040 - 2s/epoch - 7ms/step\n",
            "Epoch 2/100\n",
            "297/297 - 1s - loss: 0.0033 - mean_squared_error: 0.0033 - val_loss: 0.0028 - val_mean_squared_error: 0.0028 - 732ms/epoch - 2ms/step\n",
            "Epoch 3/100\n",
            "297/297 - 1s - loss: 0.0022 - mean_squared_error: 0.0022 - val_loss: 0.0025 - val_mean_squared_error: 0.0025 - 679ms/epoch - 2ms/step\n",
            "Epoch 4/100\n",
            "297/297 - 1s - loss: 0.0020 - mean_squared_error: 0.0020 - val_loss: 0.0022 - val_mean_squared_error: 0.0022 - 705ms/epoch - 2ms/step\n",
            "Epoch 5/100\n",
            "297/297 - 1s - loss: 0.0025 - mean_squared_error: 0.0025 - val_loss: 0.0025 - val_mean_squared_error: 0.0025 - 649ms/epoch - 2ms/step\n",
            "Epoch 6/100\n",
            "297/297 - 1s - loss: 0.0017 - mean_squared_error: 0.0017 - val_loss: 0.0027 - val_mean_squared_error: 0.0027 - 656ms/epoch - 2ms/step\n"
          ]
        }
      ]
    },
    {
      "cell_type": "markdown",
      "source": [
        "This model has show very less value of root mean square error when compared to the above model. The value observed to be 0.0027"
      ],
      "metadata": {
        "id": "yCRpELFif4bD"
      }
    },
    {
      "cell_type": "code",
      "source": [
        "model_tf.summary()"
      ],
      "metadata": {
        "colab": {
          "base_uri": "https://localhost:8080/"
        },
        "id": "mBvn_hPeOPR1",
        "outputId": "61db9f28-e89a-49df-91de-1867b781caac"
      },
      "execution_count": null,
      "outputs": [
        {
          "output_type": "stream",
          "name": "stdout",
          "text": [
            "Model: \"sequential_48\"\n",
            "_________________________________________________________________\n",
            " Layer (type)                Output Shape              Param #   \n",
            "=================================================================\n",
            " dense_111 (Dense)           (None, 50)                550       \n",
            "                                                                 \n",
            " dense_112 (Dense)           (None, 50)                2550      \n",
            "                                                                 \n",
            " dense_113 (Dense)           (None, 50)                2550      \n",
            "                                                                 \n",
            " dense_114 (Dense)           (None, 50)                2550      \n",
            "                                                                 \n",
            " dense_115 (Dense)           (None, 1)                 51        \n",
            "                                                                 \n",
            "=================================================================\n",
            "Total params: 8,251\n",
            "Trainable params: 8,251\n",
            "Non-trainable params: 0\n",
            "_________________________________________________________________\n"
          ]
        }
      ]
    },
    {
      "cell_type": "code",
      "source": [
        "y_predict_tf = model_tf.predict(x_test)"
      ],
      "metadata": {
        "colab": {
          "base_uri": "https://localhost:8080/"
        },
        "id": "4b2x3vX5OZut",
        "outputId": "3de1e4a6-1ea1-4d11-c18f-791cbb7ac592"
      },
      "execution_count": null,
      "outputs": [
        {
          "output_type": "stream",
          "name": "stdout",
          "text": [
            "141/141 [==============================] - 0s 2ms/step\n"
          ]
        }
      ]
    },
    {
      "cell_type": "code",
      "source": [
        "r2_score(y_test,y_predict_tf)"
      ],
      "metadata": {
        "colab": {
          "base_uri": "https://localhost:8080/"
        },
        "id": "K-LwRVAKOd_v",
        "outputId": "180024ed-b505-4dce-fdaa-a535158f0ae2"
      },
      "execution_count": null,
      "outputs": [
        {
          "output_type": "execute_result",
          "data": {
            "text/plain": [
              "0.9976009505302368"
            ]
          },
          "metadata": {},
          "execution_count": 209
        }
      ]
    },
    {
      "cell_type": "code",
      "source": [
        "test_loss, mean_squared_error = model_tf.evaluate(x_test, y_test)"
      ],
      "metadata": {
        "colab": {
          "base_uri": "https://localhost:8080/"
        },
        "id": "AFK25fP0U2dW",
        "outputId": "4db58177-4282-4f18-ab42-ea76c9d91c48"
      },
      "execution_count": null,
      "outputs": [
        {
          "output_type": "stream",
          "name": "stdout",
          "text": [
            "141/141 [==============================] - 0s 2ms/step - loss: 0.0023 - mean_squared_error: 0.0023\n"
          ]
        }
      ]
    },
    {
      "cell_type": "code",
      "source": [
        "predictions = model.predict_on_batch(x_test)\n",
        "plt.scatter(y_test, predictions)"
      ],
      "metadata": {
        "colab": {
          "base_uri": "https://localhost:8080/",
          "height": 282
        },
        "id": "YTCbBX6nVIOf",
        "outputId": "0f3a72d5-2c8c-4c1f-8896-b0929b84a56f"
      },
      "execution_count": null,
      "outputs": [
        {
          "output_type": "execute_result",
          "data": {
            "text/plain": [
              "<matplotlib.collections.PathCollection at 0x7f04699b1310>"
            ]
          },
          "metadata": {},
          "execution_count": 211
        },
        {
          "output_type": "display_data",
          "data": {
            "text/plain": [
              "<Figure size 432x288 with 1 Axes>"
            ],
            "image/png": "[encoded data removed]"
          },
          "metadata": {
            "needs_background": "light"
          }
        }
      ]
    },
    {
      "cell_type": "markdown",
      "source": [
        "The scatterplot indicates that the predicted value accurately predicts the actual values."
      ],
      "metadata": {
        "id": "jJpaKloZgXSC"
      }
    },
    {
      "cell_type": "code",
      "source": [
        "from sklearn.model_selection import GridSearchCV"
      ],
      "metadata": {
        "id": "6Yt1gziXLmgQ"
      },
      "execution_count": null,
      "outputs": []
    },
    {
      "cell_type": "code",
      "source": [
        "def baseline_model():\n",
        "    model = Sequential()\n",
        "    model.add(Dense(10, input_dim=10, activation='tanh'))\n",
        "    model.add(Dense(1))\n",
        "    model.compile(loss='mean_squared_error', optimizer='adam')\n",
        "    return model"
      ],
      "metadata": {
        "id": "IBl7K8h_P2Db"
      },
      "execution_count": null,
      "outputs": []
    },
    {
      "cell_type": "code",
      "source": [
        "import keras\n",
        "from sklearn.model_selection import KFold\n",
        "from keras.wrappers.scikit_learn import KerasRegressor\n",
        "from sklearn.model_selection import cross_val_score\n",
        "model_k = KerasRegressor(build_fn=baseline_model, nb_epoch=50, batch_size=100, verbose=False)\n",
        "kfold = KFold(n_splits=10)\n",
        "results = cross_val_score(model_k, x_train, y_train, cv=kfold)\n",
        "print(\"Results: %.2f (%.2f) MSE\" % (results.mean(), results.std()))"
      ],
      "metadata": {
        "colab": {
          "base_uri": "https://localhost:8080/"
        },
        "id": "Eo8BgJ-kPvRF",
        "outputId": "7e859945-8156-4d63-f820-4aa2ec533c49"
      },
      "execution_count": null,
      "outputs": [
        {
          "output_type": "stream",
          "name": "stdout",
          "text": [
            "Results: -0.23 (0.19) MSE\n"
          ]
        }
      ]
    },
    {
      "cell_type": "code",
      "source": [
        "model_k.fit(x_train, y_train)"
      ],
      "metadata": {
        "colab": {
          "base_uri": "https://localhost:8080/"
        },
        "id": "lAdXHYvuQcev",
        "outputId": "3d964683-4257-444c-f62d-8c2fe59561bc"
      },
      "execution_count": null,
      "outputs": [
        {
          "output_type": "execute_result",
          "data": {
            "text/plain": [
              "<keras.callbacks.History at 0x7f0472b730a0>"
            ]
          },
          "metadata": {},
          "execution_count": 219
        }
      ]
    },
    {
      "cell_type": "code",
      "source": [
        "prediction = model_k.predict(x_test)\n",
        "prediction"
      ],
      "metadata": {
        "colab": {
          "base_uri": "https://localhost:8080/"
        },
        "id": "WyheqBd1QZN2",
        "outputId": "12ae5348-6920-4c53-c7b4-a76b80b86091"
      },
      "execution_count": null,
      "outputs": [
        {
          "output_type": "execute_result",
          "data": {
            "text/plain": [
              "array([ 2.5870383e-01, -1.0460734e+00,  1.0943420e-01, ...,\n",
              "       -1.0238048e-03,  1.3998485e+00,  1.1374612e+00], dtype=float32)"
            ]
          },
          "metadata": {},
          "execution_count": 220
        }
      ]
    }
  ]
}